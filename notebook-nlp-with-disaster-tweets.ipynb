{
 "cells": [
  {
   "cell_type": "code",
   "execution_count": 1,
   "id": "aac9330d",
   "metadata": {
    "_cell_guid": "b1076dfc-b9ad-4769-8c92-a6c4dae69d19",
    "_uuid": "8f2839f25d086af736a60e9eeb907d3b93b6e0e5",
    "execution": {
     "iopub.execute_input": "2025-07-14T13:34:19.712095Z",
     "iopub.status.busy": "2025-07-14T13:34:19.711747Z",
     "iopub.status.idle": "2025-07-14T13:34:50.821147Z",
     "shell.execute_reply": "2025-07-14T13:34:50.820487Z"
    },
    "papermill": {
     "duration": 31.119955,
     "end_time": "2025-07-14T13:34:50.822562",
     "exception": false,
     "start_time": "2025-07-14T13:34:19.702607",
     "status": "completed"
    },
    "tags": []
   },
   "outputs": [
    {
     "name": "stdout",
     "output_type": "stream",
     "text": [
      "/kaggle/input/nlp-getting-started/sample_submission.csv\n",
      "/kaggle/input/nlp-getting-started/train.csv\n",
      "/kaggle/input/nlp-getting-started/test.csv\n",
      "/kaggle/input/pickled-glove840b300d-for-10sec-loading/glove.840B.300d.pkl\n"
     ]
    },
    {
     "name": "stderr",
     "output_type": "stream",
     "text": [
      "2025-07-14 13:34:28.127482: E external/local_xla/xla/stream_executor/cuda/cuda_fft.cc:477] Unable to register cuFFT factory: Attempting to register factory for plugin cuFFT when one has already been registered\n",
      "WARNING: All log messages before absl::InitializeLog() is called are written to STDERR\n",
      "E0000 00:00:1752500068.530671      19 cuda_dnn.cc:8310] Unable to register cuDNN factory: Attempting to register factory for plugin cuDNN when one has already been registered\n",
      "E0000 00:00:1752500068.645895      19 cuda_blas.cc:1418] Unable to register cuBLAS factory: Attempting to register factory for plugin cuBLAS when one has already been registered\n"
     ]
    }
   ],
   "source": [
    "# This Python 3 environment comes with many helpful analytics libraries installed\n",
    "# It is defined by the kaggle/python Docker image: https://github.com/kaggle/docker-python\n",
    "# For example, here's several helpful packages to load\n",
    "\n",
    "import numpy as np # linear algebra\n",
    "import pandas as pd # data processing, CSV file I/O (e.g. pd.read_csv)\n",
    "import matplotlib.pyplot as plt\n",
    "# Input data files are available in the read-only \"../input/\" directory\n",
    "# For example, running this (by clicking run or pressing Shift+Enter) will list all files under the input directory\n",
    "\n",
    "import os\n",
    "for dirname, _, filenames in os.walk('/kaggle/input'):\n",
    "    for filename in filenames:\n",
    "        print(os.path.join(dirname, filename))\n",
    "\n",
    "import xgboost as xgb\n",
    "from sklearn.feature_extraction.text import TfidfVectorizer, CountVectorizer\n",
    "from sklearn.metrics import classification_report\n",
    "from sklearn.naive_bayes import MultinomialNB\n",
    "from sklearn import preprocessing, decomposition, model_selection, metrics, pipeline\n",
    "from sklearn.model_selection import GridSearchCV\n",
    "from tensorflow.keras.optimizers import Adam\n",
    "\n",
    "# from zero to hero\n",
    "import numpy as np\n",
    "import pandas as pd\n",
    "from tqdm import tqdm\n",
    "\n",
    "# Scikit-learn utilities\n",
    "from sklearn.model_selection import train_test_split\n",
    "from sklearn import preprocessing, decomposition, metrics, pipeline\n",
    "\n",
    "# TensorFlow and Keras imports\n",
    "import tensorflow as tf\n",
    "from tensorflow.keras.models import Sequential\n",
    "from tensorflow.keras.layers import LSTM, SimpleRNN\n",
    "from tensorflow.keras.layers import Dense, Activation, Dropout, BatchNormalization, Embedding\n",
    "from tensorflow.keras.utils import to_categorical\n",
    "from tensorflow.keras.preprocessing import sequence, text\n",
    "from tensorflow.keras.callbacks import EarlyStopping\n",
    "import keras_tuner as kt\n",
    "from tensorflow.keras.layers import Embedding\n",
    "\n",
    "\n",
    "import matplotlib.pyplot as plt\n",
    "import seaborn as sns\n",
    "%matplotlib inline\n",
    "from plotly import graph_objs as go\n",
    "import plotly.express as px\n",
    "import plotly.figure_factory as ff\n",
    "\n",
    "\n",
    "import nltk\n",
    "from nltk.stem import WordNetLemmatizer\n",
    "from sklearn.feature_extraction.text import TfidfVectorizer\n",
    "from sklearn.model_selection import train_test_split\n",
    "from nltk.corpus import stopwords\n",
    "\n",
    "from sklearn.model_selection import train_test_split\n",
    "from sklearn.metrics import f1_score, make_scorer\n",
    "\n",
    "# You can write up to 20GB to the current directory (/kaggle/working/) that gets preserved as output when you create a version using \"Save & Run All\" \n",
    "# You can also write temporary files to /kaggle/temp/, but they won't be saved outside of the current session"
   ]
  },
  {
   "cell_type": "code",
   "execution_count": 2,
   "id": "63ef3fcc",
   "metadata": {
    "execution": {
     "iopub.execute_input": "2025-07-14T13:34:50.838690Z",
     "iopub.status.busy": "2025-07-14T13:34:50.837766Z",
     "iopub.status.idle": "2025-07-14T13:34:50.918382Z",
     "shell.execute_reply": "2025-07-14T13:34:50.917807Z"
    },
    "papermill": {
     "duration": 0.089241,
     "end_time": "2025-07-14T13:34:50.919559",
     "exception": false,
     "start_time": "2025-07-14T13:34:50.830318",
     "status": "completed"
    },
    "tags": []
   },
   "outputs": [],
   "source": [
    "#loading data\n",
    "train_data =  pd.read_csv(\"/kaggle/input/nlp-getting-started/train.csv\")\n",
    "test_data = pd.read_csv(\"/kaggle/input/nlp-getting-started/test.csv\")"
   ]
  },
  {
   "cell_type": "markdown",
   "id": "8916580f",
   "metadata": {
    "papermill": {
     "duration": 0.006721,
     "end_time": "2025-07-14T13:34:50.933280",
     "exception": false,
     "start_time": "2025-07-14T13:34:50.926559",
     "status": "completed"
    },
    "tags": []
   },
   "source": [
    "# 1. EDA\n"
   ]
  },
  {
   "cell_type": "markdown",
   "id": "1655ae98",
   "metadata": {
    "papermill": {
     "duration": 0.006952,
     "end_time": "2025-07-14T13:34:50.947151",
     "exception": false,
     "start_time": "2025-07-14T13:34:50.940199",
     "status": "completed"
    },
    "tags": []
   },
   "source": [
    "Let's take look at the first few lines of  the data"
   ]
  },
  {
   "cell_type": "code",
   "execution_count": 3,
   "id": "038ce985",
   "metadata": {
    "execution": {
     "iopub.execute_input": "2025-07-14T13:34:50.963449Z",
     "iopub.status.busy": "2025-07-14T13:34:50.963161Z",
     "iopub.status.idle": "2025-07-14T13:34:50.988228Z",
     "shell.execute_reply": "2025-07-14T13:34:50.987589Z"
    },
    "papermill": {
     "duration": 0.034449,
     "end_time": "2025-07-14T13:34:50.989389",
     "exception": false,
     "start_time": "2025-07-14T13:34:50.954940",
     "status": "completed"
    },
    "tags": []
   },
   "outputs": [
    {
     "data": {
      "text/html": [
       "<div>\n",
       "<style scoped>\n",
       "    .dataframe tbody tr th:only-of-type {\n",
       "        vertical-align: middle;\n",
       "    }\n",
       "\n",
       "    .dataframe tbody tr th {\n",
       "        vertical-align: top;\n",
       "    }\n",
       "\n",
       "    .dataframe thead th {\n",
       "        text-align: right;\n",
       "    }\n",
       "</style>\n",
       "<table border=\"1\" class=\"dataframe\">\n",
       "  <thead>\n",
       "    <tr style=\"text-align: right;\">\n",
       "      <th></th>\n",
       "      <th>id</th>\n",
       "      <th>keyword</th>\n",
       "      <th>location</th>\n",
       "      <th>text</th>\n",
       "      <th>target</th>\n",
       "    </tr>\n",
       "  </thead>\n",
       "  <tbody>\n",
       "    <tr>\n",
       "      <th>0</th>\n",
       "      <td>1</td>\n",
       "      <td>NaN</td>\n",
       "      <td>NaN</td>\n",
       "      <td>Our Deeds are the Reason of this #earthquake M...</td>\n",
       "      <td>1</td>\n",
       "    </tr>\n",
       "    <tr>\n",
       "      <th>1</th>\n",
       "      <td>4</td>\n",
       "      <td>NaN</td>\n",
       "      <td>NaN</td>\n",
       "      <td>Forest fire near La Ronge Sask. Canada</td>\n",
       "      <td>1</td>\n",
       "    </tr>\n",
       "    <tr>\n",
       "      <th>2</th>\n",
       "      <td>5</td>\n",
       "      <td>NaN</td>\n",
       "      <td>NaN</td>\n",
       "      <td>All residents asked to 'shelter in place' are ...</td>\n",
       "      <td>1</td>\n",
       "    </tr>\n",
       "    <tr>\n",
       "      <th>3</th>\n",
       "      <td>6</td>\n",
       "      <td>NaN</td>\n",
       "      <td>NaN</td>\n",
       "      <td>13,000 people receive #wildfires evacuation or...</td>\n",
       "      <td>1</td>\n",
       "    </tr>\n",
       "    <tr>\n",
       "      <th>4</th>\n",
       "      <td>7</td>\n",
       "      <td>NaN</td>\n",
       "      <td>NaN</td>\n",
       "      <td>Just got sent this photo from Ruby #Alaska as ...</td>\n",
       "      <td>1</td>\n",
       "    </tr>\n",
       "  </tbody>\n",
       "</table>\n",
       "</div>"
      ],
      "text/plain": [
       "   id keyword location                                               text  \\\n",
       "0   1     NaN      NaN  Our Deeds are the Reason of this #earthquake M...   \n",
       "1   4     NaN      NaN             Forest fire near La Ronge Sask. Canada   \n",
       "2   5     NaN      NaN  All residents asked to 'shelter in place' are ...   \n",
       "3   6     NaN      NaN  13,000 people receive #wildfires evacuation or...   \n",
       "4   7     NaN      NaN  Just got sent this photo from Ruby #Alaska as ...   \n",
       "\n",
       "   target  \n",
       "0       1  \n",
       "1       1  \n",
       "2       1  \n",
       "3       1  \n",
       "4       1  "
      ]
     },
     "execution_count": 3,
     "metadata": {},
     "output_type": "execute_result"
    }
   ],
   "source": [
    "train_data.head()"
   ]
  },
  {
   "cell_type": "code",
   "execution_count": 4,
   "id": "02e39617",
   "metadata": {
    "execution": {
     "iopub.execute_input": "2025-07-14T13:34:51.004989Z",
     "iopub.status.busy": "2025-07-14T13:34:51.004719Z",
     "iopub.status.idle": "2025-07-14T13:34:51.008885Z",
     "shell.execute_reply": "2025-07-14T13:34:51.008041Z"
    },
    "papermill": {
     "duration": 0.013305,
     "end_time": "2025-07-14T13:34:51.010267",
     "exception": false,
     "start_time": "2025-07-14T13:34:50.996962",
     "status": "completed"
    },
    "tags": []
   },
   "outputs": [
    {
     "name": "stdout",
     "output_type": "stream",
     "text": [
      "(7613, 5)\n"
     ]
    }
   ],
   "source": [
    "print(train_data.shape)"
   ]
  },
  {
   "cell_type": "code",
   "execution_count": 5,
   "id": "d2adf4f1",
   "metadata": {
    "execution": {
     "iopub.execute_input": "2025-07-14T13:34:51.025340Z",
     "iopub.status.busy": "2025-07-14T13:34:51.025152Z",
     "iopub.status.idle": "2025-07-14T13:34:51.029119Z",
     "shell.execute_reply": "2025-07-14T13:34:51.028332Z"
    },
    "papermill": {
     "duration": 0.012936,
     "end_time": "2025-07-14T13:34:51.030304",
     "exception": false,
     "start_time": "2025-07-14T13:34:51.017368",
     "status": "completed"
    },
    "tags": []
   },
   "outputs": [
    {
     "name": "stdout",
     "output_type": "stream",
     "text": [
      "(3263, 4)\n"
     ]
    }
   ],
   "source": [
    "print(test_data.shape)"
   ]
  },
  {
   "cell_type": "markdown",
   "id": "130c651f",
   "metadata": {
    "papermill": {
     "duration": 0.00688,
     "end_time": "2025-07-14T13:34:51.044301",
     "exception": false,
     "start_time": "2025-07-14T13:34:51.037421",
     "status": "completed"
    },
    "tags": []
   },
   "source": [
    "Visuzling how many Null value we have in each column of the training data"
   ]
  },
  {
   "cell_type": "code",
   "execution_count": 6,
   "id": "c0b3a78f",
   "metadata": {
    "execution": {
     "iopub.execute_input": "2025-07-14T13:34:51.061575Z",
     "iopub.status.busy": "2025-07-14T13:34:51.060797Z",
     "iopub.status.idle": "2025-07-14T13:34:51.094366Z",
     "shell.execute_reply": "2025-07-14T13:34:51.093257Z"
    },
    "papermill": {
     "duration": 0.043857,
     "end_time": "2025-07-14T13:34:51.095916",
     "exception": false,
     "start_time": "2025-07-14T13:34:51.052059",
     "status": "completed"
    },
    "tags": []
   },
   "outputs": [
    {
     "name": "stdout",
     "output_type": "stream",
     "text": [
      "<class 'pandas.core.frame.DataFrame'>\n",
      "RangeIndex: 7613 entries, 0 to 7612\n",
      "Data columns (total 5 columns):\n",
      " #   Column    Non-Null Count  Dtype \n",
      "---  ------    --------------  ----- \n",
      " 0   id        7613 non-null   int64 \n",
      " 1   keyword   7552 non-null   object\n",
      " 2   location  5080 non-null   object\n",
      " 3   text      7613 non-null   object\n",
      " 4   target    7613 non-null   int64 \n",
      "dtypes: int64(2), object(3)\n",
      "memory usage: 297.5+ KB\n"
     ]
    }
   ],
   "source": [
    "train_data.info()"
   ]
  },
  {
   "cell_type": "code",
   "execution_count": 7,
   "id": "3f1f4f34",
   "metadata": {
    "execution": {
     "iopub.execute_input": "2025-07-14T13:34:51.113473Z",
     "iopub.status.busy": "2025-07-14T13:34:51.113161Z",
     "iopub.status.idle": "2025-07-14T13:34:51.490900Z",
     "shell.execute_reply": "2025-07-14T13:34:51.490024Z"
    },
    "papermill": {
     "duration": 0.387939,
     "end_time": "2025-07-14T13:34:51.492318",
     "exception": false,
     "start_time": "2025-07-14T13:34:51.104379",
     "status": "completed"
    },
    "tags": []
   },
   "outputs": [
    {
     "data": {
      "image/png": "[encoded data removed]",
      "text/plain": [
       "<Figure size 800x500 with 1 Axes>"
      ]
     },
     "metadata": {},
     "output_type": "display_data"
    }
   ],
   "source": [
    "columns_of_interst = [\"keyword\", \"location\"]\n",
    "\n",
    "count_null_df = pd.DataFrame({\"Null\" : train_data[columns_of_interst].isnull().sum(),\n",
    "                  \"Non-Null\": train_data[columns_of_interst].notnull().sum()})\n",
    "\n",
    "count_null_df.plot(kind='bar', stacked = True, figsize=(8, 5))\n",
    "plt.title('Null vs Non-Null Values for Selected Columns')\n",
    "plt.xlabel('Columns')\n",
    "plt.ylabel('Count')\n",
    "plt.legend(title='Value Type')\n",
    "plt.show()"
   ]
  },
  {
   "cell_type": "markdown",
   "id": "6bb8b8ba",
   "metadata": {
    "papermill": {
     "duration": 0.008789,
     "end_time": "2025-07-14T13:34:51.510244",
     "exception": false,
     "start_time": "2025-07-14T13:34:51.501455",
     "status": "completed"
    },
    "tags": []
   },
   "source": [
    "displaying the percentage distribution of target values"
   ]
  },
  {
   "cell_type": "code",
   "execution_count": 8,
   "id": "4a782f36",
   "metadata": {
    "execution": {
     "iopub.execute_input": "2025-07-14T13:34:51.529834Z",
     "iopub.status.busy": "2025-07-14T13:34:51.529185Z",
     "iopub.status.idle": "2025-07-14T13:34:51.535258Z",
     "shell.execute_reply": "2025-07-14T13:34:51.534553Z"
    },
    "papermill": {
     "duration": 0.01694,
     "end_time": "2025-07-14T13:34:51.536349",
     "exception": false,
     "start_time": "2025-07-14T13:34:51.519409",
     "status": "completed"
    },
    "tags": []
   },
   "outputs": [
    {
     "name": "stdout",
     "output_type": "stream",
     "text": [
      "Percentage of 1's: 42.97%\n",
      "Percentage of 0's: 57.03%\n"
     ]
    }
   ],
   "source": [
    "count_one = (train_data[\"target\"] == 1).sum()\n",
    "count_zero = (train_data[\"target\"] == 0).sum()\n",
    "total_count = len(train_data[\"target\"])\n",
    "\n",
    "print(f\"Percentage of 1's: {((count_one / total_count) * 100):.2f}%\")\n",
    "print(f\"Percentage of 0's: {((count_zero / total_count) * 100):.2f}%\")"
   ]
  },
  {
   "cell_type": "markdown",
   "id": "555da460",
   "metadata": {
    "papermill": {
     "duration": 0.008627,
     "end_time": "2025-07-14T13:34:51.553741",
     "exception": false,
     "start_time": "2025-07-14T13:34:51.545114",
     "status": "completed"
    },
    "tags": []
   },
   "source": [
    "# 2. Natural Language Processing"
   ]
  },
  {
   "cell_type": "code",
   "execution_count": 9,
   "id": "4c7bd19f",
   "metadata": {
    "execution": {
     "iopub.execute_input": "2025-07-14T13:34:51.571569Z",
     "iopub.status.busy": "2025-07-14T13:34:51.570985Z",
     "iopub.status.idle": "2025-07-14T13:34:51.577776Z",
     "shell.execute_reply": "2025-07-14T13:34:51.577172Z"
    },
    "papermill": {
     "duration": 0.017161,
     "end_time": "2025-07-14T13:34:51.579227",
     "exception": false,
     "start_time": "2025-07-14T13:34:51.562066",
     "status": "completed"
    },
    "tags": []
   },
   "outputs": [],
   "source": [
    "# I will fill Nan values with \"\" for now\n",
    "train_data = train_data.fillna(\"\")"
   ]
  },
  {
   "cell_type": "markdown",
   "id": "781a26d8",
   "metadata": {
    "papermill": {
     "duration": 0.008186,
     "end_time": "2025-07-14T13:34:51.596700",
     "exception": false,
     "start_time": "2025-07-14T13:34:51.588514",
     "status": "completed"
    },
    "tags": []
   },
   "source": [
    "Splitting the training data into dev & train"
   ]
  },
  {
   "cell_type": "code",
   "execution_count": 10,
   "id": "d2804c48",
   "metadata": {
    "execution": {
     "iopub.execute_input": "2025-07-14T13:34:51.617692Z",
     "iopub.status.busy": "2025-07-14T13:34:51.617042Z",
     "iopub.status.idle": "2025-07-14T13:34:51.625801Z",
     "shell.execute_reply": "2025-07-14T13:34:51.624822Z"
    },
    "papermill": {
     "duration": 0.020746,
     "end_time": "2025-07-14T13:34:51.627183",
     "exception": false,
     "start_time": "2025-07-14T13:34:51.606437",
     "status": "completed"
    },
    "tags": []
   },
   "outputs": [],
   "source": [
    "y = train_data[\"target\"]\n",
    "X = train_data.drop(\"target\", axis=1)\n",
    "\n",
    "X_train, X_dev, y_train, y_dev = train_test_split(X, y, test_size=0.2, random_state=42)"
   ]
  },
  {
   "cell_type": "code",
   "execution_count": 11,
   "id": "e4760613",
   "metadata": {
    "execution": {
     "iopub.execute_input": "2025-07-14T13:34:51.704636Z",
     "iopub.status.busy": "2025-07-14T13:34:51.703848Z",
     "iopub.status.idle": "2025-07-14T13:34:51.708461Z",
     "shell.execute_reply": "2025-07-14T13:34:51.707702Z"
    },
    "papermill": {
     "duration": 0.073792,
     "end_time": "2025-07-14T13:34:51.709646",
     "exception": false,
     "start_time": "2025-07-14T13:34:51.635854",
     "status": "completed"
    },
    "tags": []
   },
   "outputs": [
    {
     "name": "stdout",
     "output_type": "stream",
     "text": [
      "X_train_shape :  (6090, 4) , X_dev_shape (1523, 4)\n"
     ]
    }
   ],
   "source": [
    "print(\"X_train_shape : \", X_train.shape, \", X_dev_shape\", X_dev.shape)"
   ]
  },
  {
   "cell_type": "markdown",
   "id": "5b5be2d1",
   "metadata": {
    "papermill": {
     "duration": 0.008545,
     "end_time": "2025-07-14T13:34:51.727087",
     "exception": false,
     "start_time": "2025-07-14T13:34:51.718542",
     "status": "completed"
    },
    "tags": []
   },
   "source": [
    "## TF-IDF & Bag-of-words"
   ]
  },
  {
   "cell_type": "code",
   "execution_count": 12,
   "id": "99413af5",
   "metadata": {
    "execution": {
     "iopub.execute_input": "2025-07-14T13:34:51.746004Z",
     "iopub.status.busy": "2025-07-14T13:34:51.745319Z",
     "iopub.status.idle": "2025-07-14T13:34:51.755325Z",
     "shell.execute_reply": "2025-07-14T13:34:51.754490Z"
    },
    "papermill": {
     "duration": 0.020849,
     "end_time": "2025-07-14T13:34:51.756668",
     "exception": false,
     "start_time": "2025-07-14T13:34:51.735819",
     "status": "completed"
    },
    "tags": []
   },
   "outputs": [],
   "source": [
    "train_text = X_train['keyword'] + ' ' + X_train['location'] + ' ' + X_train['text']\n",
    "dev_text = X_dev['keyword'] + ' ' + X_dev['location'] + ' ' + X_dev['text']"
   ]
  },
  {
   "cell_type": "code",
   "execution_count": 13,
   "id": "dc66febc",
   "metadata": {
    "execution": {
     "iopub.execute_input": "2025-07-14T13:34:51.775370Z",
     "iopub.status.busy": "2025-07-14T13:34:51.775126Z",
     "iopub.status.idle": "2025-07-14T13:34:51.781516Z",
     "shell.execute_reply": "2025-07-14T13:34:51.780912Z"
    },
    "papermill": {
     "duration": 0.017154,
     "end_time": "2025-07-14T13:34:51.782698",
     "exception": false,
     "start_time": "2025-07-14T13:34:51.765544",
     "status": "completed"
    },
    "tags": []
   },
   "outputs": [
    {
     "data": {
      "text/plain": [
       "4996    military Texas Courageous and honest analysis ...\n",
       "3263    engulfed  @ZachZaidman @670TheScore wld b a sh...\n",
       "4907    massacre Cottonwood Arizona Tell @BarackObama ...\n",
       "2855    drought Spokane, WA Worried about how the CA d...\n",
       "4716    lava Medan,Indonesia @YoungHeroesID Lava Blast...\n",
       "                              ...                        \n",
       "5226    obliteration Merica! @Eganator2000 There aren'...\n",
       "5390    panic  just had a panic attack bc I don't have...\n",
       "860     blood  Omron HEM-712C Automatic Blood Pressure...\n",
       "7603      Officials say a quarantine is in place at an...\n",
       "7270    whirlwind Stamford & Cork (& Shropshire) I mov...\n",
       "Length: 6090, dtype: object"
      ]
     },
     "execution_count": 13,
     "metadata": {},
     "output_type": "execute_result"
    }
   ],
   "source": [
    "train_text"
   ]
  },
  {
   "cell_type": "code",
   "execution_count": 14,
   "id": "2d11a169",
   "metadata": {
    "execution": {
     "iopub.execute_input": "2025-07-14T13:34:51.800570Z",
     "iopub.status.busy": "2025-07-14T13:34:51.799947Z",
     "iopub.status.idle": "2025-07-14T13:34:52.708126Z",
     "shell.execute_reply": "2025-07-14T13:34:52.707526Z"
    },
    "papermill": {
     "duration": 0.918477,
     "end_time": "2025-07-14T13:34:52.709598",
     "exception": false,
     "start_time": "2025-07-14T13:34:51.791121",
     "status": "completed"
    },
    "tags": []
   },
   "outputs": [],
   "source": [
    "tfv = TfidfVectorizer(\n",
    "    lowercase=True,              \n",
    "    stop_words='english',        \n",
    "    max_features=10000,          # Limit to top 10k features by term frequency\n",
    "    ngram_range=(1, 2),         \n",
    "    min_df=3,                    \n",
    "    # max_df=0.8,                  \n",
    "    norm='l2',                   \n",
    "    sublinear_tf=True           \n",
    ")\n",
    "\n",
    "ctv = CountVectorizer(analyzer='word', stop_words = 'english')\n",
    "\n",
    "tfv.fit(list(train_text) + list(dev_text))\n",
    "ctv.fit(list(train_text) + list(dev_text))\n",
    "\n",
    "X_train_tfv =  tfv.transform(train_text) \n",
    "X_dev_tfv = tfv.transform(dev_text)\n",
    "\n",
    "X_train_ctv =  ctv.transform(train_text) \n",
    "X_dev_ctv = ctv.transform(dev_text)"
   ]
  },
  {
   "cell_type": "code",
   "execution_count": 15,
   "id": "69cc6db8",
   "metadata": {
    "execution": {
     "iopub.execute_input": "2025-07-14T13:34:52.727343Z",
     "iopub.status.busy": "2025-07-14T13:34:52.726720Z",
     "iopub.status.idle": "2025-07-14T13:34:52.731217Z",
     "shell.execute_reply": "2025-07-14T13:34:52.730358Z"
    },
    "papermill": {
     "duration": 0.014666,
     "end_time": "2025-07-14T13:34:52.732502",
     "exception": false,
     "start_time": "2025-07-14T13:34:52.717836",
     "status": "completed"
    },
    "tags": []
   },
   "outputs": [
    {
     "name": "stdout",
     "output_type": "stream",
     "text": [
      "X_train_tfv :  (6090, 7758) , X_train_ctv:  (6090, 23211)\n"
     ]
    }
   ],
   "source": [
    "print(\"X_train_tfv : \", X_train_tfv.shape, \", X_train_ctv: \", X_train_ctv.shape)"
   ]
  },
  {
   "cell_type": "markdown",
   "id": "0c1d6f20",
   "metadata": {
    "papermill": {
     "duration": 0.008432,
     "end_time": "2025-07-14T13:34:52.749274",
     "exception": false,
     "start_time": "2025-07-14T13:34:52.740842",
     "status": "completed"
    },
    "tags": []
   },
   "source": [
    "# 3. Building Basic Models"
   ]
  },
  {
   "cell_type": "markdown",
   "id": "65d4d90b",
   "metadata": {
    "papermill": {
     "duration": 0.007624,
     "end_time": "2025-07-14T13:34:52.764974",
     "exception": false,
     "start_time": "2025-07-14T13:34:52.757350",
     "status": "completed"
    },
    "tags": []
   },
   "source": [
    "We will try using TF-IDF & CTV with some simple models"
   ]
  },
  {
   "cell_type": "markdown",
   "id": "a32eebbb",
   "metadata": {
    "papermill": {
     "duration": 0.007752,
     "end_time": "2025-07-14T13:34:52.780304",
     "exception": false,
     "start_time": "2025-07-14T13:34:52.772552",
     "status": "completed"
    },
    "tags": []
   },
   "source": [
    "## Logistic regression"
   ]
  },
  {
   "cell_type": "code",
   "execution_count": 16,
   "id": "964d0285",
   "metadata": {
    "execution": {
     "iopub.execute_input": "2025-07-14T13:34:52.797652Z",
     "iopub.status.busy": "2025-07-14T13:34:52.797156Z",
     "iopub.status.idle": "2025-07-14T13:34:53.926517Z",
     "shell.execute_reply": "2025-07-14T13:34:53.925742Z"
    },
    "papermill": {
     "duration": 1.139946,
     "end_time": "2025-07-14T13:34:53.928323",
     "exception": false,
     "start_time": "2025-07-14T13:34:52.788377",
     "status": "completed"
    },
    "tags": []
   },
   "outputs": [
    {
     "name": "stdout",
     "output_type": "stream",
     "text": [
      "TF-IDF Classification Report:\n",
      "              precision    recall  f1-score   support\n",
      "\n",
      "           0       0.79      0.86      0.82       874\n",
      "           1       0.79      0.69      0.73       649\n",
      "\n",
      "    accuracy                           0.79      1523\n",
      "   macro avg       0.79      0.77      0.78      1523\n",
      "weighted avg       0.79      0.79      0.78      1523\n",
      "\n",
      "**********************************************************************\n",
      "CountVectorizer Classification Report:\n",
      "              precision    recall  f1-score   support\n",
      "\n",
      "           0       0.79      0.84      0.82       874\n",
      "           1       0.77      0.70      0.73       649\n",
      "\n",
      "    accuracy                           0.78      1523\n",
      "   macro avg       0.78      0.77      0.77      1523\n",
      "weighted avg       0.78      0.78      0.78      1523\n",
      "\n"
     ]
    }
   ],
   "source": [
    "from sklearn.linear_model import LogisticRegression\n",
    "from sklearn.metrics import f1_score\n",
    "\n",
    "#training LR on tfv\n",
    "model_tfv = LogisticRegression(max_iter=10000)\n",
    "model_tfv.fit(X_train_tfv, y_train)\n",
    "y_pred_tfv = model_tfv.predict(X_dev_tfv)\n",
    "\n",
    "#training LR on ctv\n",
    "model_ctv = LogisticRegression(max_iter=10000)\n",
    "model_ctv.fit(X_train_ctv, y_train)\n",
    "y_pred_ctv = model_ctv.predict(X_dev_ctv)\n",
    "\n",
    "print(\"TF-IDF Classification Report:\")\n",
    "print(classification_report(y_dev, y_pred_tfv))\n",
    "print(\"*\" * 70)\n",
    "print(\"CountVectorizer Classification Report:\")\n",
    "print(classification_report(y_dev, y_pred_ctv))"
   ]
  },
  {
   "cell_type": "markdown",
   "id": "a4414609",
   "metadata": {
    "papermill": {
     "duration": 0.015179,
     "end_time": "2025-07-14T13:34:53.959276",
     "exception": false,
     "start_time": "2025-07-14T13:34:53.944097",
     "status": "completed"
    },
    "tags": []
   },
   "source": [
    "Let's try Naive Bayes"
   ]
  },
  {
   "cell_type": "markdown",
   "id": "e3d8a819",
   "metadata": {
    "papermill": {
     "duration": 0.014657,
     "end_time": "2025-07-14T13:34:53.989170",
     "exception": false,
     "start_time": "2025-07-14T13:34:53.974513",
     "status": "completed"
    },
    "tags": []
   },
   "source": [
    "## Naive Bayes"
   ]
  },
  {
   "cell_type": "code",
   "execution_count": 17,
   "id": "38b3e8a6",
   "metadata": {
    "execution": {
     "iopub.execute_input": "2025-07-14T13:34:54.023045Z",
     "iopub.status.busy": "2025-07-14T13:34:54.021353Z",
     "iopub.status.idle": "2025-07-14T13:34:54.052565Z",
     "shell.execute_reply": "2025-07-14T13:34:54.051945Z"
    },
    "papermill": {
     "duration": 0.049215,
     "end_time": "2025-07-14T13:34:54.053830",
     "exception": false,
     "start_time": "2025-07-14T13:34:54.004615",
     "status": "completed"
    },
    "tags": []
   },
   "outputs": [
    {
     "name": "stdout",
     "output_type": "stream",
     "text": [
      "TF-IDF Classification Report:\n",
      "              precision    recall  f1-score   support\n",
      "\n",
      "           0       0.78      0.89      0.83       874\n",
      "           1       0.81      0.67      0.73       649\n",
      "\n",
      "    accuracy                           0.79      1523\n",
      "   macro avg       0.80      0.78      0.78      1523\n",
      "weighted avg       0.80      0.79      0.79      1523\n",
      "\n",
      "**********************************************************************\n",
      "CountVectorizer Classification Report:\n",
      "              precision    recall  f1-score   support\n",
      "\n",
      "           0       0.81      0.81      0.81       874\n",
      "           1       0.74      0.75      0.75       649\n",
      "\n",
      "    accuracy                           0.78      1523\n",
      "   macro avg       0.78      0.78      0.78      1523\n",
      "weighted avg       0.78      0.78      0.78      1523\n",
      "\n"
     ]
    }
   ],
   "source": [
    "#training on tfv\n",
    "model_tfv = MultinomialNB()\n",
    "model_tfv.fit(X_train_tfv, y_train)\n",
    "y_pred_tfv = model_tfv.predict(X_dev_tfv)\n",
    "\n",
    "#training on ctv\n",
    "model_ctv = MultinomialNB()\n",
    "model_ctv.fit(X_train_ctv, y_train)\n",
    "y_pred_ctv = model_ctv.predict(X_dev_ctv)\n",
    "\n",
    "print(\"TF-IDF Classification Report:\")\n",
    "print(classification_report(y_dev, y_pred_tfv))\n",
    "print(\"*\" * 70)\n",
    "print(\"CountVectorizer Classification Report:\")\n",
    "print(classification_report(y_dev, y_pred_ctv))"
   ]
  },
  {
   "cell_type": "markdown",
   "id": "35d72afa",
   "metadata": {
    "papermill": {
     "duration": 0.008402,
     "end_time": "2025-07-14T13:34:54.070752",
     "exception": false,
     "start_time": "2025-07-14T13:34:54.062350",
     "status": "completed"
    },
    "tags": []
   },
   "source": [
    "Approximately the same performance with CountVectorizer, but Naive Bayes performs better with TF-IDF vectorizer, let's try xgboost next !"
   ]
  },
  {
   "cell_type": "markdown",
   "id": "e83933a7",
   "metadata": {
    "papermill": {
     "duration": 0.008359,
     "end_time": "2025-07-14T13:34:54.087557",
     "exception": false,
     "start_time": "2025-07-14T13:34:54.079198",
     "status": "completed"
    },
    "tags": []
   },
   "source": [
    "# 4. Xgboost classifier"
   ]
  },
  {
   "cell_type": "code",
   "execution_count": 18,
   "id": "9565731d",
   "metadata": {
    "execution": {
     "iopub.execute_input": "2025-07-14T13:34:54.105984Z",
     "iopub.status.busy": "2025-07-14T13:34:54.105395Z",
     "iopub.status.idle": "2025-07-14T13:35:01.950579Z",
     "shell.execute_reply": "2025-07-14T13:35:01.949756Z"
    },
    "papermill": {
     "duration": 7.855546,
     "end_time": "2025-07-14T13:35:01.951612",
     "exception": false,
     "start_time": "2025-07-14T13:34:54.096066",
     "status": "completed"
    },
    "tags": []
   },
   "outputs": [
    {
     "name": "stdout",
     "output_type": "stream",
     "text": [
      "TF-IDF Classification Report:\n",
      "              precision    recall  f1-score   support\n",
      "\n",
      "           0       0.76      0.87      0.81       874\n",
      "           1       0.78      0.63      0.70       649\n",
      "\n",
      "    accuracy                           0.77      1523\n",
      "   macro avg       0.77      0.75      0.76      1523\n",
      "weighted avg       0.77      0.77      0.77      1523\n",
      "\n",
      "**********************************************************************\n",
      "CountVectorizer Classification Report:\n",
      "              precision    recall  f1-score   support\n",
      "\n",
      "           0       0.76      0.91      0.83       874\n",
      "           1       0.83      0.61      0.71       649\n",
      "\n",
      "    accuracy                           0.78      1523\n",
      "   macro avg       0.80      0.76      0.77      1523\n",
      "weighted avg       0.79      0.78      0.78      1523\n",
      "\n"
     ]
    }
   ],
   "source": [
    "#training xgboost on tfv\n",
    "model_tfv = xgb.XGBClassifier(max_depth=7, n_estimators=200, learning_rate=0.1)\n",
    "\n",
    "model_tfv.fit(X_train_tfv.tocsc(), y_train)\n",
    "y_pred_tfv = model_tfv.predict(X_dev_tfv.tocsc())\n",
    "\n",
    "#training xgboost on ctv\n",
    "model_ctv = xgb.XGBClassifier(max_depth=7, n_estimators=200, learning_rate=0.1)\n",
    "\n",
    "model_ctv.fit(X_train_ctv.tocsc(), y_train)\n",
    "y_pred_ctv = model_ctv.predict(X_dev_ctv.tocsc())\n",
    "\n",
    "print(\"TF-IDF Classification Report:\")\n",
    "print(classification_report(y_dev, y_pred_tfv))\n",
    "print(\"*\" * 70)\n",
    "print(\"CountVectorizer Classification Report:\")\n",
    "print(classification_report(y_dev, y_pred_ctv))"
   ]
  },
  {
   "cell_type": "markdown",
   "id": "6860b8ca",
   "metadata": {
    "papermill": {
     "duration": 0.00798,
     "end_time": "2025-07-14T13:35:01.967996",
     "exception": false,
     "start_time": "2025-07-14T13:35:01.960016",
     "status": "completed"
    },
    "tags": []
   },
   "source": [
    "Xgboost is currently performing same as the other models. Let's try tuning its hyperparameters to see if we can improve the results"
   ]
  },
  {
   "cell_type": "markdown",
   "id": "b3856a07",
   "metadata": {
    "papermill": {
     "duration": 0.007719,
     "end_time": "2025-07-14T13:35:01.984085",
     "exception": false,
     "start_time": "2025-07-14T13:35:01.976366",
     "status": "completed"
    },
    "tags": []
   },
   "source": [
    "## Grid Search"
   ]
  },
  {
   "cell_type": "code",
   "execution_count": 19,
   "id": "e9ce18e9",
   "metadata": {
    "execution": {
     "iopub.execute_input": "2025-07-14T13:35:02.001709Z",
     "iopub.status.busy": "2025-07-14T13:35:02.001113Z",
     "iopub.status.idle": "2025-07-14T13:37:24.349794Z",
     "shell.execute_reply": "2025-07-14T13:37:24.348927Z"
    },
    "papermill": {
     "duration": 142.36678,
     "end_time": "2025-07-14T13:37:24.359073",
     "exception": false,
     "start_time": "2025-07-14T13:35:01.992293",
     "status": "completed"
    },
    "tags": []
   },
   "outputs": [
    {
     "name": "stdout",
     "output_type": "stream",
     "text": [
      "Fitting 3 folds for each of 48 candidates, totalling 144 fits\n",
      "Best score: 0.759\n",
      "Best score parameters: \n",
      "\tn_estimators: 200\n",
      "\tlearning_rate: 0.1\n",
      "\tmax_depth: 7\n",
      "\tsubsample: 0.8\n",
      "\tcolsample_bytree: 1.0\n"
     ]
    }
   ],
   "source": [
    "xgb_model = xgb.XGBClassifier(\n",
    "    use_label_encoder=False\n",
    ")\n",
    "param_grid = {\n",
    "    'n_estimators': [100, 200],\n",
    "    'learning_rate': [0.05, 0.1],\n",
    "    'max_depth': [3, 5, 7],\n",
    "    'subsample': [0.8, 1.0],\n",
    "    'colsample_bytree': [0.8, 1.0]\n",
    "} \n",
    "\n",
    "f1_scorer = metrics.make_scorer(f1_score, average='weighted')\n",
    "\n",
    "grid_search = GridSearchCV(\n",
    "    estimator=xgb_model,\n",
    "    param_grid=param_grid,\n",
    "    scoring=f1_scorer,\n",
    "    cv=3,               \n",
    "    verbose=1,\n",
    "    n_jobs=-1           \n",
    ")\n",
    "\n",
    "grid_search.fit(X_train_tfv.tocsc(), y_train)\n",
    "\n",
    "print(\"Best score: %0.3f\" % grid_search.best_score_)\n",
    "print(\"Best score parameters: \")\n",
    "best_parms = grid_search.best_estimator_.get_params()\n",
    "\n",
    "for param_name in param_grid.keys():\n",
    "    print(\"\\t%s: %r\" % (param_name, best_parms[param_name]))"
   ]
  },
  {
   "cell_type": "code",
   "execution_count": 20,
   "id": "45cbd2c8",
   "metadata": {
    "execution": {
     "iopub.execute_input": "2025-07-14T13:37:24.375997Z",
     "iopub.status.busy": "2025-07-14T13:37:24.375469Z",
     "iopub.status.idle": "2025-07-14T13:37:57.120920Z",
     "shell.execute_reply": "2025-07-14T13:37:57.120281Z"
    },
    "papermill": {
     "duration": 32.75538,
     "end_time": "2025-07-14T13:37:57.122455",
     "exception": false,
     "start_time": "2025-07-14T13:37:24.367075",
     "status": "completed"
    },
    "tags": []
   },
   "outputs": [],
   "source": [
    "import pickle\n",
    "\n",
    "glove_path = \"/kaggle/input/pickled-glove840b300d-for-10sec-loading/glove.840B.300d.pkl\"\n",
    "\n",
    "with open(glove_path, \"rb\") as f: \n",
    "    glove = pickle.load(f)"
   ]
  },
  {
   "cell_type": "markdown",
   "id": "ae0da273",
   "metadata": {
    "papermill": {
     "duration": 0.007628,
     "end_time": "2025-07-14T13:37:57.138756",
     "exception": false,
     "start_time": "2025-07-14T13:37:57.131128",
     "status": "completed"
    },
    "tags": []
   },
   "source": [
    "## GloVe embeddings"
   ]
  },
  {
   "cell_type": "markdown",
   "id": "8390b949",
   "metadata": {
    "papermill": {
     "duration": 0.007655,
     "end_time": "2025-07-14T13:37:57.154056",
     "exception": false,
     "start_time": "2025-07-14T13:37:57.146401",
     "status": "completed"
    },
    "tags": []
   },
   "source": [
    "Converting sentences to vectors using GloVe word embeddings"
   ]
  },
  {
   "cell_type": "code",
   "execution_count": 21,
   "id": "e2621fc5",
   "metadata": {
    "execution": {
     "iopub.execute_input": "2025-07-14T13:37:57.170355Z",
     "iopub.status.busy": "2025-07-14T13:37:57.170112Z",
     "iopub.status.idle": "2025-07-14T13:37:57.174415Z",
     "shell.execute_reply": "2025-07-14T13:37:57.173718Z"
    },
    "papermill": {
     "duration": 0.013842,
     "end_time": "2025-07-14T13:37:57.175528",
     "exception": false,
     "start_time": "2025-07-14T13:37:57.161686",
     "status": "completed"
    },
    "tags": []
   },
   "outputs": [],
   "source": [
    "def sentence_to_vec(sentence, glove, dim=300):\n",
    "\n",
    "    words = sentence.split()\n",
    "    vectors = [glove.get(word.lower(), np.zeros(dim)) for word in words]\n",
    "\n",
    "    if len(vectors) == 0:\n",
    "        return np.zeros(dim)\n",
    "    \n",
    "    return np.mean(vectors, axis=0) "
   ]
  },
  {
   "cell_type": "code",
   "execution_count": 22,
   "id": "2b4366c1",
   "metadata": {
    "execution": {
     "iopub.execute_input": "2025-07-14T13:37:57.192262Z",
     "iopub.status.busy": "2025-07-14T13:37:57.192053Z",
     "iopub.status.idle": "2025-07-14T13:37:57.555560Z",
     "shell.execute_reply": "2025-07-14T13:37:57.554906Z"
    },
    "papermill": {
     "duration": 0.373585,
     "end_time": "2025-07-14T13:37:57.557093",
     "exception": false,
     "start_time": "2025-07-14T13:37:57.183508",
     "status": "completed"
    },
    "tags": []
   },
   "outputs": [],
   "source": [
    "X_train_glove = np.array([sentence_to_vec(s, glove) for s in train_text])\n",
    "X_dev_glove = np.array([sentence_to_vec(s, glove) for s in dev_text])"
   ]
  },
  {
   "cell_type": "code",
   "execution_count": 23,
   "id": "bdf5a1f7",
   "metadata": {
    "execution": {
     "iopub.execute_input": "2025-07-14T13:37:57.575336Z",
     "iopub.status.busy": "2025-07-14T13:37:57.575081Z",
     "iopub.status.idle": "2025-07-14T13:38:10.295926Z",
     "shell.execute_reply": "2025-07-14T13:38:10.295305Z"
    },
    "papermill": {
     "duration": 12.731481,
     "end_time": "2025-07-14T13:38:10.297322",
     "exception": false,
     "start_time": "2025-07-14T13:37:57.565841",
     "status": "completed"
    },
    "tags": []
   },
   "outputs": [
    {
     "name": "stdout",
     "output_type": "stream",
     "text": [
      "TF-IDF Classification Report:\n",
      "              precision    recall  f1-score   support\n",
      "\n",
      "           0       0.79      0.85      0.82       874\n",
      "           1       0.78      0.70      0.74       649\n",
      "\n",
      "    accuracy                           0.79      1523\n",
      "   macro avg       0.79      0.78      0.78      1523\n",
      "weighted avg       0.79      0.79      0.79      1523\n",
      "\n"
     ]
    }
   ],
   "source": [
    "model = xgb.XGBClassifier(max_depth=7, n_estimators=200, colsample_bytree=1, \n",
    "                        subsample=0.8, nthread=-1, learning_rate=0.1)\n",
    "\n",
    "model.fit(X_train_glove, y_train)\n",
    "\n",
    "y_pred = model.predict(X_dev_glove)\n",
    "\n",
    "print(\"TF-IDF Classification Report:\")\n",
    "print(classification_report(y_dev, y_pred))"
   ]
  },
  {
   "cell_type": "markdown",
   "id": "1beb8da9",
   "metadata": {
    "papermill": {
     "duration": 0.008573,
     "end_time": "2025-07-14T13:38:10.315626",
     "exception": false,
     "start_time": "2025-07-14T13:38:10.307053",
     "status": "completed"
    },
    "tags": []
   },
   "source": [
    "# 5. Deep learning"
   ]
  },
  {
   "cell_type": "markdown",
   "id": "3dc5a1fc",
   "metadata": {
    "papermill": {
     "duration": 0.007827,
     "end_time": "2025-07-14T13:38:10.331511",
     "exception": false,
     "start_time": "2025-07-14T13:38:10.323684",
     "status": "completed"
    },
    "tags": []
   },
   "source": [
    "## Tokenization and embeddings"
   ]
  },
  {
   "cell_type": "code",
   "execution_count": 24,
   "id": "59a424b0",
   "metadata": {
    "execution": {
     "iopub.execute_input": "2025-07-14T13:38:10.348953Z",
     "iopub.status.busy": "2025-07-14T13:38:10.348238Z",
     "iopub.status.idle": "2025-07-14T13:38:10.643774Z",
     "shell.execute_reply": "2025-07-14T13:38:10.643150Z"
    },
    "papermill": {
     "duration": 0.305988,
     "end_time": "2025-07-14T13:38:10.645240",
     "exception": false,
     "start_time": "2025-07-14T13:38:10.339252",
     "status": "completed"
    },
    "tags": []
   },
   "outputs": [],
   "source": [
    "# tokinezing the data \n",
    "token = text.Tokenizer(num_words=None)\n",
    "\n",
    "token.fit_on_texts(list(train_text) + list(dev_text))\n",
    "\n",
    "X_train_tokeniz = token.texts_to_sequences(train_text)\n",
    "X_dev_tokeniz = token.texts_to_sequences(dev_text)\n",
    "\n",
    "#zero padding\n",
    "max_len= 1000\n",
    "X_train_pad = sequence.pad_sequences(X_train_tokeniz, maxlen=max_len)\n",
    "X_dev_pad = sequence.pad_sequences(X_dev_tokeniz, maxlen=max_len)\n",
    "\n",
    "word_index = token.word_index"
   ]
  },
  {
   "cell_type": "code",
   "execution_count": 25,
   "id": "4602368c",
   "metadata": {
    "execution": {
     "iopub.execute_input": "2025-07-14T13:38:10.663252Z",
     "iopub.status.busy": "2025-07-14T13:38:10.662993Z",
     "iopub.status.idle": "2025-07-14T13:38:15.242128Z",
     "shell.execute_reply": "2025-07-14T13:38:15.241542Z"
    },
    "papermill": {
     "duration": 4.589594,
     "end_time": "2025-07-14T13:38:15.243414",
     "exception": false,
     "start_time": "2025-07-14T13:38:10.653820",
     "status": "completed"
    },
    "tags": []
   },
   "outputs": [
    {
     "name": "stderr",
     "output_type": "stream",
     "text": [
      "/usr/local/lib/python3.11/dist-packages/keras/src/layers/core/embedding.py:90: UserWarning: Argument `input_length` is deprecated. Just remove it.\n",
      "  warnings.warn(\n",
      "I0000 00:00:1752500293.328732      19 gpu_device.cc:2022] Created device /job:localhost/replica:0/task:0/device:GPU:0 with 13942 MB memory:  -> device: 0, name: Tesla T4, pci bus id: 0000:00:04.0, compute capability: 7.5\n",
      "I0000 00:00:1752500293.329566      19 gpu_device.cc:2022] Created device /job:localhost/replica:0/task:0/device:GPU:1 with 13942 MB memory:  -> device: 1, name: Tesla T4, pci bus id: 0000:00:05.0, compute capability: 7.5\n"
     ]
    }
   ],
   "source": [
    "\n",
    "embedding_dim = 300\n",
    "embedding_matrix = np.zeros((len(word_index) + 1, embedding_dim))\n",
    "\n",
    "\n",
    "for word, i in word_index.items():\n",
    "    embedding_vector = glove.get(word)\n",
    "\n",
    "    if embedding_vector is not None:\n",
    "        embedding_matrix[i] = embedding_vector\n",
    "\n",
    "#initialize embedding layer with GloVe vectors\n",
    "embedding_layer = Embedding(\n",
    "    input_dim = len(word_index) + 1,\n",
    "    output_dim = embedding_dim,\n",
    "    weights = [embedding_matrix],\n",
    "    input_length = max_len,\n",
    "    trainable = False\n",
    ")"
   ]
  },
  {
   "cell_type": "markdown",
   "id": "b5bd5781",
   "metadata": {
    "papermill": {
     "duration": 0.007592,
     "end_time": "2025-07-14T13:38:15.259953",
     "exception": false,
     "start_time": "2025-07-14T13:38:15.252361",
     "status": "completed"
    },
    "tags": []
   },
   "source": [
    "## RNN"
   ]
  },
  {
   "cell_type": "code",
   "execution_count": 26,
   "id": "d39b117e",
   "metadata": {
    "execution": {
     "iopub.execute_input": "2025-07-14T13:38:15.277481Z",
     "iopub.status.busy": "2025-07-14T13:38:15.277261Z",
     "iopub.status.idle": "2025-07-14T13:38:15.314236Z",
     "shell.execute_reply": "2025-07-14T13:38:15.313584Z"
    },
    "papermill": {
     "duration": 0.047345,
     "end_time": "2025-07-14T13:38:15.315342",
     "exception": false,
     "start_time": "2025-07-14T13:38:15.267997",
     "status": "completed"
    },
    "tags": []
   },
   "outputs": [
    {
     "data": {
      "text/html": [
       "<pre style=\"white-space:pre;overflow-x:auto;line-height:normal;font-family:Menlo,'DejaVu Sans Mono',consolas,'Courier New',monospace\"><span style=\"font-weight: bold\">Model: \"sequential\"</span>\n",
       "</pre>\n"
      ],
      "text/plain": [
       "\u001b[1mModel: \"sequential\"\u001b[0m\n"
      ]
     },
     "metadata": {},
     "output_type": "display_data"
    },
    {
     "data": {
      "text/html": [
       "<pre style=\"white-space:pre;overflow-x:auto;line-height:normal;font-family:Menlo,'DejaVu Sans Mono',consolas,'Courier New',monospace\">┏━━━━━━━━━━━━━━━━━━━━━━━━━━━━━━━━━━━━━━┳━━━━━━━━━━━━━━━━━━━━━━━━━━━━━┳━━━━━━━━━━━━━━━━━┓\n",
       "┃<span style=\"font-weight: bold\"> Layer (type)                         </span>┃<span style=\"font-weight: bold\"> Output Shape                </span>┃<span style=\"font-weight: bold\">         Param # </span>┃\n",
       "┡━━━━━━━━━━━━━━━━━━━━━━━━━━━━━━━━━━━━━━╇━━━━━━━━━━━━━━━━━━━━━━━━━━━━━╇━━━━━━━━━━━━━━━━━┩\n",
       "│ embedding (<span style=\"color: #0087ff; text-decoration-color: #0087ff\">Embedding</span>)                │ ?                           │       <span style=\"color: #00af00; text-decoration-color: #00af00\">7,377,300</span> │\n",
       "├──────────────────────────────────────┼─────────────────────────────┼─────────────────┤\n",
       "│ simple_rnn (<span style=\"color: #0087ff; text-decoration-color: #0087ff\">SimpleRNN</span>)               │ ?                           │     <span style=\"color: #00af00; text-decoration-color: #00af00\">0</span> (unbuilt) │\n",
       "├──────────────────────────────────────┼─────────────────────────────┼─────────────────┤\n",
       "│ dense (<span style=\"color: #0087ff; text-decoration-color: #0087ff\">Dense</span>)                        │ ?                           │     <span style=\"color: #00af00; text-decoration-color: #00af00\">0</span> (unbuilt) │\n",
       "└──────────────────────────────────────┴─────────────────────────────┴─────────────────┘\n",
       "</pre>\n"
      ],
      "text/plain": [
       "┏━━━━━━━━━━━━━━━━━━━━━━━━━━━━━━━━━━━━━━┳━━━━━━━━━━━━━━━━━━━━━━━━━━━━━┳━━━━━━━━━━━━━━━━━┓\n",
       "┃\u001b[1m \u001b[0m\u001b[1mLayer (type)                        \u001b[0m\u001b[1m \u001b[0m┃\u001b[1m \u001b[0m\u001b[1mOutput Shape               \u001b[0m\u001b[1m \u001b[0m┃\u001b[1m \u001b[0m\u001b[1m        Param #\u001b[0m\u001b[1m \u001b[0m┃\n",
       "┡━━━━━━━━━━━━━━━━━━━━━━━━━━━━━━━━━━━━━━╇━━━━━━━━━━━━━━━━━━━━━━━━━━━━━╇━━━━━━━━━━━━━━━━━┩\n",
       "│ embedding (\u001b[38;5;33mEmbedding\u001b[0m)                │ ?                           │       \u001b[38;5;34m7,377,300\u001b[0m │\n",
       "├──────────────────────────────────────┼─────────────────────────────┼─────────────────┤\n",
       "│ simple_rnn (\u001b[38;5;33mSimpleRNN\u001b[0m)               │ ?                           │     \u001b[38;5;34m0\u001b[0m (unbuilt) │\n",
       "├──────────────────────────────────────┼─────────────────────────────┼─────────────────┤\n",
       "│ dense (\u001b[38;5;33mDense\u001b[0m)                        │ ?                           │     \u001b[38;5;34m0\u001b[0m (unbuilt) │\n",
       "└──────────────────────────────────────┴─────────────────────────────┴─────────────────┘\n"
      ]
     },
     "metadata": {},
     "output_type": "display_data"
    },
    {
     "data": {
      "text/html": [
       "<pre style=\"white-space:pre;overflow-x:auto;line-height:normal;font-family:Menlo,'DejaVu Sans Mono',consolas,'Courier New',monospace\"><span style=\"font-weight: bold\"> Total params: </span><span style=\"color: #00af00; text-decoration-color: #00af00\">7,377,300</span> (28.14 MB)\n",
       "</pre>\n"
      ],
      "text/plain": [
       "\u001b[1m Total params: \u001b[0m\u001b[38;5;34m7,377,300\u001b[0m (28.14 MB)\n"
      ]
     },
     "metadata": {},
     "output_type": "display_data"
    },
    {
     "data": {
      "text/html": [
       "<pre style=\"white-space:pre;overflow-x:auto;line-height:normal;font-family:Menlo,'DejaVu Sans Mono',consolas,'Courier New',monospace\"><span style=\"font-weight: bold\"> Trainable params: </span><span style=\"color: #00af00; text-decoration-color: #00af00\">0</span> (0.00 B)\n",
       "</pre>\n"
      ],
      "text/plain": [
       "\u001b[1m Trainable params: \u001b[0m\u001b[38;5;34m0\u001b[0m (0.00 B)\n"
      ]
     },
     "metadata": {},
     "output_type": "display_data"
    },
    {
     "data": {
      "text/html": [
       "<pre style=\"white-space:pre;overflow-x:auto;line-height:normal;font-family:Menlo,'DejaVu Sans Mono',consolas,'Courier New',monospace\"><span style=\"font-weight: bold\"> Non-trainable params: </span><span style=\"color: #00af00; text-decoration-color: #00af00\">7,377,300</span> (28.14 MB)\n",
       "</pre>\n"
      ],
      "text/plain": [
       "\u001b[1m Non-trainable params: \u001b[0m\u001b[38;5;34m7,377,300\u001b[0m (28.14 MB)\n"
      ]
     },
     "metadata": {},
     "output_type": "display_data"
    }
   ],
   "source": [
    "strategy = tf.distribute.get_strategy()\n",
    "\n",
    "with strategy.scope():\n",
    "    model = Sequential([\n",
    "        embedding_layer,\n",
    "        SimpleRNN(100),\n",
    "        Dense(1, activation='sigmoid')\n",
    "    ])\n",
    "\n",
    "    model.compile(loss='binary_crossentropy', optimizer=Adam(), metrics=['accuracy'])\n",
    "\n",
    "model.summary()"
   ]
  },
  {
   "cell_type": "code",
   "execution_count": 27,
   "id": "a8c663b6",
   "metadata": {
    "execution": {
     "iopub.execute_input": "2025-07-14T13:38:15.335535Z",
     "iopub.status.busy": "2025-07-14T13:38:15.335079Z",
     "iopub.status.idle": "2025-07-14T13:39:38.901144Z",
     "shell.execute_reply": "2025-07-14T13:39:38.900514Z"
    },
    "papermill": {
     "duration": 83.577566,
     "end_time": "2025-07-14T13:39:38.902244",
     "exception": false,
     "start_time": "2025-07-14T13:38:15.324678",
     "status": "completed"
    },
    "tags": []
   },
   "outputs": [
    {
     "name": "stdout",
     "output_type": "stream",
     "text": [
      "Epoch 1/7\n"
     ]
    },
    {
     "name": "stderr",
     "output_type": "stream",
     "text": [
      "WARNING: All log messages before absl::InitializeLog() is called are written to STDERR\n",
      "I0000 00:00:1752500297.984731      82 service.cc:148] XLA service 0x7f050c0691f0 initialized for platform CUDA (this does not guarantee that XLA will be used). Devices:\n",
      "I0000 00:00:1752500297.986040      82 service.cc:156]   StreamExecutor device (0): Tesla T4, Compute Capability 7.5\n",
      "I0000 00:00:1752500297.986057      82 service.cc:156]   StreamExecutor device (1): Tesla T4, Compute Capability 7.5\n",
      "I0000 00:00:1752500298.330323      82 cuda_dnn.cc:529] Loaded cuDNN version 90300\n"
     ]
    },
    {
     "name": "stdout",
     "output_type": "stream",
     "text": [
      "\u001b[1m  1/153\u001b[0m \u001b[37m━━━━━━━━━━━━━━━━━━━━\u001b[0m \u001b[1m10:25\u001b[0m 4s/step - accuracy: 0.4000 - loss: 0.7538"
     ]
    },
    {
     "name": "stderr",
     "output_type": "stream",
     "text": [
      "I0000 00:00:1752500299.396313      82 device_compiler.h:188] Compiled cluster using XLA!  This line is logged at most once for the lifetime of the process.\n"
     ]
    },
    {
     "name": "stdout",
     "output_type": "stream",
     "text": [
      "\u001b[1m153/153\u001b[0m \u001b[32m━━━━━━━━━━━━━━━━━━━━\u001b[0m\u001b[37m\u001b[0m \u001b[1m16s\u001b[0m 79ms/step - accuracy: 0.6560 - loss: 0.6197\n",
      "Epoch 2/7\n",
      "\u001b[1m153/153\u001b[0m \u001b[32m━━━━━━━━━━━━━━━━━━━━\u001b[0m\u001b[37m\u001b[0m \u001b[1m11s\u001b[0m 73ms/step - accuracy: 0.8027 - loss: 0.4484\n",
      "Epoch 3/7\n",
      "\u001b[1m153/153\u001b[0m \u001b[32m━━━━━━━━━━━━━━━━━━━━\u001b[0m\u001b[37m\u001b[0m \u001b[1m11s\u001b[0m 73ms/step - accuracy: 0.8306 - loss: 0.3957\n",
      "Epoch 4/7\n",
      "\u001b[1m153/153\u001b[0m \u001b[32m━━━━━━━━━━━━━━━━━━━━\u001b[0m\u001b[37m\u001b[0m \u001b[1m11s\u001b[0m 73ms/step - accuracy: 0.8414 - loss: 0.3642\n",
      "Epoch 5/7\n",
      "\u001b[1m153/153\u001b[0m \u001b[32m━━━━━━━━━━━━━━━━━━━━\u001b[0m\u001b[37m\u001b[0m \u001b[1m11s\u001b[0m 73ms/step - accuracy: 0.8714 - loss: 0.3093\n",
      "Epoch 6/7\n",
      "\u001b[1m153/153\u001b[0m \u001b[32m━━━━━━━━━━━━━━━━━━━━\u001b[0m\u001b[37m\u001b[0m \u001b[1m11s\u001b[0m 73ms/step - accuracy: 0.8805 - loss: 0.2998\n",
      "Epoch 7/7\n",
      "\u001b[1m153/153\u001b[0m \u001b[32m━━━━━━━━━━━━━━━━━━━━\u001b[0m\u001b[37m\u001b[0m \u001b[1m11s\u001b[0m 73ms/step - accuracy: 0.9029 - loss: 0.2510\n"
     ]
    },
    {
     "data": {
      "text/plain": [
       "<keras.src.callbacks.history.History at 0x7f064d217350>"
      ]
     },
     "execution_count": 27,
     "metadata": {},
     "output_type": "execute_result"
    }
   ],
   "source": [
    "model.fit(X_train_pad, y_train,\n",
    "            epochs=7,\n",
    "            batch_size=40\n",
    "    ) "
   ]
  },
  {
   "cell_type": "code",
   "execution_count": 28,
   "id": "bc414321",
   "metadata": {
    "execution": {
     "iopub.execute_input": "2025-07-14T13:39:39.013053Z",
     "iopub.status.busy": "2025-07-14T13:39:39.012751Z",
     "iopub.status.idle": "2025-07-14T13:39:41.599653Z",
     "shell.execute_reply": "2025-07-14T13:39:41.598998Z"
    },
    "papermill": {
     "duration": 2.641945,
     "end_time": "2025-07-14T13:39:41.600954",
     "exception": false,
     "start_time": "2025-07-14T13:39:38.959009",
     "status": "completed"
    },
    "tags": []
   },
   "outputs": [
    {
     "name": "stdout",
     "output_type": "stream",
     "text": [
      "\u001b[1m48/48\u001b[0m \u001b[32m━━━━━━━━━━━━━━━━━━━━\u001b[0m\u001b[37m\u001b[0m \u001b[1m2s\u001b[0m 36ms/step\n",
      "Classification Report:\n",
      "              precision    recall  f1-score   support\n",
      "\n",
      "           0       0.83      0.70      0.76       874\n",
      "           1       0.67      0.81      0.73       649\n",
      "\n",
      "    accuracy                           0.75      1523\n",
      "   macro avg       0.75      0.76      0.75      1523\n",
      "weighted avg       0.76      0.75      0.75      1523\n",
      "\n"
     ]
    }
   ],
   "source": [
    "y_pred_prob = model.predict(X_dev_pad)\n",
    "y_pred = (y_pred_prob > 0.5).astype(int)\n",
    "print(\"Classification Report:\")\n",
    "print(classification_report(y_dev, y_pred))"
   ]
  },
  {
   "cell_type": "markdown",
   "id": "5d990ce1",
   "metadata": {
    "papermill": {
     "duration": 0.052574,
     "end_time": "2025-07-14T13:39:41.708781",
     "exception": false,
     "start_time": "2025-07-14T13:39:41.656207",
     "status": "completed"
    },
    "tags": []
   },
   "source": [
    "It seems that Naive Bayes performs better than the RNN model using GloVe embeddings, let's try LSTM's"
   ]
  },
  {
   "cell_type": "markdown",
   "id": "a6283e88",
   "metadata": {
    "papermill": {
     "duration": 0.057567,
     "end_time": "2025-07-14T13:39:41.819951",
     "exception": false,
     "start_time": "2025-07-14T13:39:41.762384",
     "status": "completed"
    },
    "tags": []
   },
   "source": [
    "## LSTM"
   ]
  },
  {
   "cell_type": "code",
   "execution_count": 29,
   "id": "1ce63000",
   "metadata": {
    "execution": {
     "iopub.execute_input": "2025-07-14T13:39:41.930306Z",
     "iopub.status.busy": "2025-07-14T13:39:41.929736Z",
     "iopub.status.idle": "2025-07-14T13:39:41.952086Z",
     "shell.execute_reply": "2025-07-14T13:39:41.951514Z"
    },
    "papermill": {
     "duration": 0.076982,
     "end_time": "2025-07-14T13:39:41.953102",
     "exception": false,
     "start_time": "2025-07-14T13:39:41.876120",
     "status": "completed"
    },
    "tags": []
   },
   "outputs": [
    {
     "data": {
      "text/html": [
       "<pre style=\"white-space:pre;overflow-x:auto;line-height:normal;font-family:Menlo,'DejaVu Sans Mono',consolas,'Courier New',monospace\"><span style=\"font-weight: bold\">Model: \"sequential_1\"</span>\n",
       "</pre>\n"
      ],
      "text/plain": [
       "\u001b[1mModel: \"sequential_1\"\u001b[0m\n"
      ]
     },
     "metadata": {},
     "output_type": "display_data"
    },
    {
     "data": {
      "text/html": [
       "<pre style=\"white-space:pre;overflow-x:auto;line-height:normal;font-family:Menlo,'DejaVu Sans Mono',consolas,'Courier New',monospace\">┏━━━━━━━━━━━━━━━━━━━━━━━━━━━━━━━━━━━━━━┳━━━━━━━━━━━━━━━━━━━━━━━━━━━━━┳━━━━━━━━━━━━━━━━━┓\n",
       "┃<span style=\"font-weight: bold\"> Layer (type)                         </span>┃<span style=\"font-weight: bold\"> Output Shape                </span>┃<span style=\"font-weight: bold\">         Param # </span>┃\n",
       "┡━━━━━━━━━━━━━━━━━━━━━━━━━━━━━━━━━━━━━━╇━━━━━━━━━━━━━━━━━━━━━━━━━━━━━╇━━━━━━━━━━━━━━━━━┩\n",
       "│ embedding (<span style=\"color: #0087ff; text-decoration-color: #0087ff\">Embedding</span>)                │ (<span style=\"color: #00d7ff; text-decoration-color: #00d7ff\">None</span>, <span style=\"color: #00af00; text-decoration-color: #00af00\">1000</span>, <span style=\"color: #00af00; text-decoration-color: #00af00\">300</span>)           │       <span style=\"color: #00af00; text-decoration-color: #00af00\">7,377,300</span> │\n",
       "├──────────────────────────────────────┼─────────────────────────────┼─────────────────┤\n",
       "│ lstm (<span style=\"color: #0087ff; text-decoration-color: #0087ff\">LSTM</span>)                          │ ?                           │     <span style=\"color: #00af00; text-decoration-color: #00af00\">0</span> (unbuilt) │\n",
       "├──────────────────────────────────────┼─────────────────────────────┼─────────────────┤\n",
       "│ dense_1 (<span style=\"color: #0087ff; text-decoration-color: #0087ff\">Dense</span>)                      │ ?                           │     <span style=\"color: #00af00; text-decoration-color: #00af00\">0</span> (unbuilt) │\n",
       "└──────────────────────────────────────┴─────────────────────────────┴─────────────────┘\n",
       "</pre>\n"
      ],
      "text/plain": [
       "┏━━━━━━━━━━━━━━━━━━━━━━━━━━━━━━━━━━━━━━┳━━━━━━━━━━━━━━━━━━━━━━━━━━━━━┳━━━━━━━━━━━━━━━━━┓\n",
       "┃\u001b[1m \u001b[0m\u001b[1mLayer (type)                        \u001b[0m\u001b[1m \u001b[0m┃\u001b[1m \u001b[0m\u001b[1mOutput Shape               \u001b[0m\u001b[1m \u001b[0m┃\u001b[1m \u001b[0m\u001b[1m        Param #\u001b[0m\u001b[1m \u001b[0m┃\n",
       "┡━━━━━━━━━━━━━━━━━━━━━━━━━━━━━━━━━━━━━━╇━━━━━━━━━━━━━━━━━━━━━━━━━━━━━╇━━━━━━━━━━━━━━━━━┩\n",
       "│ embedding (\u001b[38;5;33mEmbedding\u001b[0m)                │ (\u001b[38;5;45mNone\u001b[0m, \u001b[38;5;34m1000\u001b[0m, \u001b[38;5;34m300\u001b[0m)           │       \u001b[38;5;34m7,377,300\u001b[0m │\n",
       "├──────────────────────────────────────┼─────────────────────────────┼─────────────────┤\n",
       "│ lstm (\u001b[38;5;33mLSTM\u001b[0m)                          │ ?                           │     \u001b[38;5;34m0\u001b[0m (unbuilt) │\n",
       "├──────────────────────────────────────┼─────────────────────────────┼─────────────────┤\n",
       "│ dense_1 (\u001b[38;5;33mDense\u001b[0m)                      │ ?                           │     \u001b[38;5;34m0\u001b[0m (unbuilt) │\n",
       "└──────────────────────────────────────┴─────────────────────────────┴─────────────────┘\n"
      ]
     },
     "metadata": {},
     "output_type": "display_data"
    },
    {
     "data": {
      "text/html": [
       "<pre style=\"white-space:pre;overflow-x:auto;line-height:normal;font-family:Menlo,'DejaVu Sans Mono',consolas,'Courier New',monospace\"><span style=\"font-weight: bold\"> Total params: </span><span style=\"color: #00af00; text-decoration-color: #00af00\">7,377,300</span> (28.14 MB)\n",
       "</pre>\n"
      ],
      "text/plain": [
       "\u001b[1m Total params: \u001b[0m\u001b[38;5;34m7,377,300\u001b[0m (28.14 MB)\n"
      ]
     },
     "metadata": {},
     "output_type": "display_data"
    },
    {
     "data": {
      "text/html": [
       "<pre style=\"white-space:pre;overflow-x:auto;line-height:normal;font-family:Menlo,'DejaVu Sans Mono',consolas,'Courier New',monospace\"><span style=\"font-weight: bold\"> Trainable params: </span><span style=\"color: #00af00; text-decoration-color: #00af00\">0</span> (0.00 B)\n",
       "</pre>\n"
      ],
      "text/plain": [
       "\u001b[1m Trainable params: \u001b[0m\u001b[38;5;34m0\u001b[0m (0.00 B)\n"
      ]
     },
     "metadata": {},
     "output_type": "display_data"
    },
    {
     "data": {
      "text/html": [
       "<pre style=\"white-space:pre;overflow-x:auto;line-height:normal;font-family:Menlo,'DejaVu Sans Mono',consolas,'Courier New',monospace\"><span style=\"font-weight: bold\"> Non-trainable params: </span><span style=\"color: #00af00; text-decoration-color: #00af00\">7,377,300</span> (28.14 MB)\n",
       "</pre>\n"
      ],
      "text/plain": [
       "\u001b[1m Non-trainable params: \u001b[0m\u001b[38;5;34m7,377,300\u001b[0m (28.14 MB)\n"
      ]
     },
     "metadata": {},
     "output_type": "display_data"
    }
   ],
   "source": [
    "strategy = tf.distribute.get_strategy()\n",
    "\n",
    "with strategy.scope():\n",
    "    model = Sequential([\n",
    "        embedding_layer,\n",
    "        LSTM(100, dropout = 0.3, recurrent_dropout = 0.3),\n",
    "        Dense(1, activation = 'sigmoid')\n",
    "    ])\n",
    "\n",
    "    model.compile(loss='binary_crossentropy', optimizer='adam',\n",
    "                  metrics=['accuracy'])\n",
    "\n",
    "model.summary()"
   ]
  },
  {
   "cell_type": "code",
   "execution_count": 30,
   "id": "5d1dba2c",
   "metadata": {
    "execution": {
     "iopub.execute_input": "2025-07-14T13:39:42.061866Z",
     "iopub.status.busy": "2025-07-14T13:39:42.061569Z",
     "iopub.status.idle": "2025-07-14T13:58:33.119696Z",
     "shell.execute_reply": "2025-07-14T13:58:33.119093Z"
    },
    "papermill": {
     "duration": 1131.114248,
     "end_time": "2025-07-14T13:58:33.120836",
     "exception": false,
     "start_time": "2025-07-14T13:39:42.006588",
     "status": "completed"
    },
    "tags": []
   },
   "outputs": [
    {
     "name": "stdout",
     "output_type": "stream",
     "text": [
      "Epoch 1/5\n",
      "\u001b[1m96/96\u001b[0m \u001b[32m━━━━━━━━━━━━━━━━━━━━\u001b[0m\u001b[37m\u001b[0m \u001b[1m236s\u001b[0m 2s/step - accuracy: 0.6767 - loss: 0.5960\n",
      "Epoch 2/5\n",
      "\u001b[1m96/96\u001b[0m \u001b[32m━━━━━━━━━━━━━━━━━━━━\u001b[0m\u001b[37m\u001b[0m \u001b[1m225s\u001b[0m 2s/step - accuracy: 0.7933 - loss: 0.4651\n",
      "Epoch 3/5\n",
      "\u001b[1m96/96\u001b[0m \u001b[32m━━━━━━━━━━━━━━━━━━━━\u001b[0m\u001b[37m\u001b[0m \u001b[1m225s\u001b[0m 2s/step - accuracy: 0.8130 - loss: 0.4321\n",
      "Epoch 4/5\n",
      "\u001b[1m96/96\u001b[0m \u001b[32m━━━━━━━━━━━━━━━━━━━━\u001b[0m\u001b[37m\u001b[0m \u001b[1m225s\u001b[0m 2s/step - accuracy: 0.8116 - loss: 0.4341\n",
      "Epoch 5/5\n",
      "\u001b[1m96/96\u001b[0m \u001b[32m━━━━━━━━━━━━━━━━━━━━\u001b[0m\u001b[37m\u001b[0m \u001b[1m220s\u001b[0m 2s/step - accuracy: 0.8213 - loss: 0.4098\n"
     ]
    },
    {
     "data": {
      "text/plain": [
       "<keras.src.callbacks.history.History at 0x7f05e03ceb10>"
      ]
     },
     "execution_count": 30,
     "metadata": {},
     "output_type": "execute_result"
    }
   ],
   "source": [
    "model.fit(X_train_pad, y_train,epochs=5, \n",
    "        batch_size=64*strategy.num_replicas_in_sync) "
   ]
  },
  {
   "cell_type": "code",
   "execution_count": 31,
   "id": "ea6ff43d",
   "metadata": {
    "execution": {
     "iopub.execute_input": "2025-07-14T13:58:33.275223Z",
     "iopub.status.busy": "2025-07-14T13:58:33.274960Z",
     "iopub.status.idle": "2025-07-14T13:58:59.448655Z",
     "shell.execute_reply": "2025-07-14T13:58:59.447737Z"
    },
    "papermill": {
     "duration": 26.25024,
     "end_time": "2025-07-14T13:58:59.449998",
     "exception": false,
     "start_time": "2025-07-14T13:58:33.199758",
     "status": "completed"
    },
    "tags": []
   },
   "outputs": [
    {
     "name": "stdout",
     "output_type": "stream",
     "text": [
      "\u001b[1m48/48\u001b[0m \u001b[32m━━━━━━━━━━━━━━━━━━━━\u001b[0m\u001b[37m\u001b[0m \u001b[1m26s\u001b[0m 533ms/step\n",
      "Classification Report for LSTM:\n",
      "              precision    recall  f1-score   support\n",
      "\n",
      "           0       0.83      0.90      0.86       874\n",
      "           1       0.84      0.74      0.79       649\n",
      "\n",
      "    accuracy                           0.83      1523\n",
      "   macro avg       0.83      0.82      0.83      1523\n",
      "weighted avg       0.83      0.83      0.83      1523\n",
      "\n"
     ]
    }
   ],
   "source": [
    "y_pred_prob = model.predict(X_dev_pad)\n",
    "y_pred = (y_pred_prob > 0.5).astype(int)\n",
    "print(\"Classification Report for LSTM:\")\n",
    "print(classification_report(y_dev, y_pred))"
   ]
  },
  {
   "cell_type": "markdown",
   "id": "94990b87",
   "metadata": {
    "papermill": {
     "duration": 0.076856,
     "end_time": "2025-07-14T13:58:59.607687",
     "exception": false,
     "start_time": "2025-07-14T13:58:59.530831",
     "status": "completed"
    },
    "tags": []
   },
   "source": [
    "### Fine-tuning LSTM"
   ]
  },
  {
   "cell_type": "code",
   "execution_count": 32,
   "id": "fee7843f",
   "metadata": {
    "execution": {
     "iopub.execute_input": "2025-07-14T13:58:59.754206Z",
     "iopub.status.busy": "2025-07-14T13:58:59.753932Z",
     "iopub.status.idle": "2025-07-14T13:58:59.759992Z",
     "shell.execute_reply": "2025-07-14T13:58:59.759248Z"
    },
    "papermill": {
     "duration": 0.080583,
     "end_time": "2025-07-14T13:58:59.761530",
     "exception": false,
     "start_time": "2025-07-14T13:58:59.680947",
     "status": "completed"
    },
    "tags": []
   },
   "outputs": [],
   "source": [
    "def build_model(hp):\n",
    "    n_neurons = hp.Int(\"n_neurons\", min_value=32, max_value=256)\n",
    "    dropout = hp.Float(\"dropout\", min_value=0.1, max_value=0.5, step=0.1)\n",
    "    recurrent_dropout = hp.Float(\"recurrent_dropout\", min_value=0.1, max_value=0.5, step=0.1)\n",
    "\n",
    "    learning_rate = hp.Float(\"learning_rate\", min_value=1e-4, max_value=1e-2, sampling=\"log\")\n",
    "    \n",
    "    optimizer = hp.Choice(\"optimizer\", values=[\"sgd\", \"adam\"])\n",
    "    \n",
    "    if optimizer == \"sgd\":\n",
    "        optimizer = tf.keras.optimizers.SGD(learning_rate=learning_rate)\n",
    "   \n",
    "    else:\n",
    "        optimizer = tf.keras.optimizers.Adam(learning_rate=learning_rate)\n",
    "\n",
    "    model = tf.keras.Sequential()\n",
    "\n",
    "    model.add(embedding_layer)\n",
    "    model.add(LSTM(units=n_neurons,\n",
    "                   dropout=dropout,\n",
    "                   recurrent_dropout=recurrent_dropout))\n",
    "   \n",
    "    model.add(Dense(1, activation = 'sigmoid'))\n",
    "    model.compile(loss='binary_crossentropy', optimizer=optimizer,\n",
    "                      metrics=['accuracy'])\n",
    "\n",
    "    return model"
   ]
  },
  {
   "cell_type": "code",
   "execution_count": 33,
   "id": "27f01c88",
   "metadata": {
    "execution": {
     "iopub.execute_input": "2025-07-14T13:58:59.968493Z",
     "iopub.status.busy": "2025-07-14T13:58:59.967719Z",
     "iopub.status.idle": "2025-07-14T17:10:36.663950Z",
     "shell.execute_reply": "2025-07-14T17:10:36.663173Z"
    },
    "papermill": {
     "duration": 11496.883373,
     "end_time": "2025-07-14T17:10:36.772300",
     "exception": false,
     "start_time": "2025-07-14T13:58:59.888927",
     "status": "completed"
    },
    "tags": []
   },
   "outputs": [
    {
     "name": "stdout",
     "output_type": "stream",
     "text": [
      "Trial 5 Complete [00h 41m 05s]\n",
      "val_accuracy: 0.6848325729370117\n",
      "\n",
      "Best val_accuracy So Far: 0.8332238793373108\n",
      "Total elapsed time: 03h 11m 37s\n"
     ]
    }
   ],
   "source": [
    "with strategy.scope():\n",
    "    random_search_tuner = kt.RandomSearch(\n",
    "        build_model, objective=\"val_accuracy\",max_trials=5,\n",
    "        project_name=\"disaster_tweet\",\n",
    "        directory=\"tuner_dir\",\n",
    "        overwrite=True\n",
    "    )\n",
    "\n",
    "random_search_tuner.search(X_train_pad, y_train, epochs = 5,\n",
    "                           validation_data = (X_dev_pad, y_dev),\n",
    "                          callbacks = [tf.keras.callbacks.EarlyStopping(patience=2)])"
   ]
  },
  {
   "cell_type": "markdown",
   "id": "5cedd9e2",
   "metadata": {
    "papermill": {
     "duration": 0.073972,
     "end_time": "2025-07-14T17:10:36.921959",
     "exception": false,
     "start_time": "2025-07-14T17:10:36.847987",
     "status": "completed"
    },
    "tags": []
   },
   "source": [
    "### LSTM final results"
   ]
  },
  {
   "cell_type": "code",
   "execution_count": 34,
   "id": "e4a65927",
   "metadata": {
    "execution": {
     "iopub.execute_input": "2025-07-14T17:10:37.076391Z",
     "iopub.status.busy": "2025-07-14T17:10:37.075659Z",
     "iopub.status.idle": "2025-07-14T17:11:04.867598Z",
     "shell.execute_reply": "2025-07-14T17:11:04.866912Z"
    },
    "papermill": {
     "duration": 27.869651,
     "end_time": "2025-07-14T17:11:04.868788",
     "exception": false,
     "start_time": "2025-07-14T17:10:36.999137",
     "status": "completed"
    },
    "tags": []
   },
   "outputs": [
    {
     "name": "stderr",
     "output_type": "stream",
     "text": [
      "/usr/local/lib/python3.11/dist-packages/keras/src/saving/saving_lib.py:757: UserWarning: Skipping variable loading for optimizer 'adam', because it has 2 variables whereas the saved optimizer has 12 variables. \n",
      "  saveable.load_own_variables(weights_store.get(inner_path))\n"
     ]
    },
    {
     "name": "stdout",
     "output_type": "stream",
     "text": [
      "\u001b[1m48/48\u001b[0m \u001b[32m━━━━━━━━━━━━━━━━━━━━\u001b[0m\u001b[37m\u001b[0m \u001b[1m26s\u001b[0m 536ms/step\n",
      "Classification Report for LSTM:\n",
      "              precision    recall  f1-score   support\n",
      "\n",
      "           0       0.82      0.91      0.86       874\n",
      "           1       0.85      0.73      0.79       649\n",
      "\n",
      "    accuracy                           0.83      1523\n",
      "   macro avg       0.84      0.82      0.83      1523\n",
      "weighted avg       0.84      0.83      0.83      1523\n",
      "\n"
     ]
    }
   ],
   "source": [
    "best_model = random_search_tuner.get_best_models(num_models=1)[0]\n",
    "\n",
    "y_pred_prob = best_model.predict(X_dev_pad)\n",
    "y_pred = (y_pred_prob > 0.5).astype(int)\n",
    "print(\"Classification Report for LSTM:\")\n",
    "print(classification_report(y_dev, y_pred))"
   ]
  },
  {
   "cell_type": "markdown",
   "id": "b2732ba5",
   "metadata": {
    "papermill": {
     "duration": 0.076256,
     "end_time": "2025-07-14T17:11:05.021536",
     "exception": false,
     "start_time": "2025-07-14T17:11:04.945280",
     "status": "completed"
    },
    "tags": []
   },
   "source": [
    "# 6. Test set predictions"
   ]
  },
  {
   "cell_type": "code",
   "execution_count": 35,
   "id": "8ecdadfd",
   "metadata": {
    "execution": {
     "iopub.execute_input": "2025-07-14T17:11:05.232590Z",
     "iopub.status.busy": "2025-07-14T17:11:05.232337Z",
     "iopub.status.idle": "2025-07-14T17:11:05.292782Z",
     "shell.execute_reply": "2025-07-14T17:11:05.292215Z"
    },
    "papermill": {
     "duration": 0.198741,
     "end_time": "2025-07-14T17:11:05.293968",
     "exception": false,
     "start_time": "2025-07-14T17:11:05.095227",
     "status": "completed"
    },
    "tags": []
   },
   "outputs": [],
   "source": [
    "# preprocesss test data\n",
    "test_data = test_data.fillna(\"\")\n",
    "\n",
    "test_text = test_data['keyword'] + ' ' + test_data['location'] + ' ' + test_data['text']\n",
    "X_test_tokeniz = token.texts_to_sequences(test_text)\n",
    "\n",
    "#zero padding\n",
    "X_test_pad = sequence.pad_sequences(X_test_tokeniz, maxlen=max_len)"
   ]
  },
  {
   "cell_type": "code",
   "execution_count": 36,
   "id": "06d1ad96",
   "metadata": {
    "execution": {
     "iopub.execute_input": "2025-07-14T17:11:05.442676Z",
     "iopub.status.busy": "2025-07-14T17:11:05.442161Z",
     "iopub.status.idle": "2025-07-14T17:11:59.511128Z",
     "shell.execute_reply": "2025-07-14T17:11:59.510527Z"
    },
    "papermill": {
     "duration": 54.144124,
     "end_time": "2025-07-14T17:11:59.512401",
     "exception": false,
     "start_time": "2025-07-14T17:11:05.368277",
     "status": "completed"
    },
    "tags": []
   },
   "outputs": [
    {
     "name": "stdout",
     "output_type": "stream",
     "text": [
      "\u001b[1m102/102\u001b[0m \u001b[32m━━━━━━━━━━━━━━━━━━━━\u001b[0m\u001b[37m\u001b[0m \u001b[1m54s\u001b[0m 528ms/step\n"
     ]
    }
   ],
   "source": [
    "# predict and evaluate\n",
    "y_pred_prob = best_model.predict(X_test_pad)\n",
    "y_test_pred = (y_pred_prob > 0.5).astype(int).flatten()\n",
    "\n",
    "submission = pd.DataFrame({\n",
    "    \"id\": test_data[\"id\"],\n",
    "    \"target\" : y_test_pred\n",
    "})\n",
    "\n",
    "submission.to_csv(\"submission.csv\", index=False)"
   ]
  }
 ],
 "metadata": {
  "kaggle": {
   "accelerator": "nvidiaTeslaT4",
   "dataSources": [
    {
     "databundleVersionId": 869809,
     "sourceId": 17777,
     "sourceType": "competition"
    },
    {
     "datasetId": 167266,
     "sourceId": 380554,
     "sourceType": "datasetVersion"
    }
   ],
   "dockerImageVersionId": 31040,
   "isGpuEnabled": true,
   "isInternetEnabled": true,
   "language": "python",
   "sourceType": "notebook"
  },
  "kernelspec": {
   "display_name": "Python 3",
   "language": "python",
   "name": "python3"
  },
  "language_info": {
   "codemirror_mode": {
    "name": "ipython",
    "version": 3
   },
   "file_extension": ".py",
   "mimetype": "text/x-python",
   "name": "python",
   "nbconvert_exporter": "python",
   "pygments_lexer": "ipython3",
   "version": "3.11.11"
  },
  "papermill": {
   "default_parameters": {},
   "duration": 13069.12967,
   "end_time": "2025-07-14T17:12:02.730555",
   "environment_variables": {},
   "exception": null,
   "input_path": "__notebook__.ipynb",
   "output_path": "__notebook__.ipynb",
   "parameters": {},
   "start_time": "2025-07-14T13:34:13.600885",
   "version": "2.6.0"
  }
 },
 "nbformat": 4,
 "nbformat_minor": 5
}
